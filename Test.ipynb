{
 "cells": [
  {
   "cell_type": "code",
   "execution_count": 22,
   "metadata": {},
   "outputs": [],
   "source": [
    "import subprocess\n",
    "import json\n",
    "from constants import *\n",
    "from dotenv import load_dotenv\n",
    "from web3 import Web3\n",
    "from bit import PrivateKeyTestnet\n",
    "from bit.network import NetworkAPI\n",
    "import os\n",
    "\n",
    "from web3.middleware import geth_poa_middleware"
   ]
  },
  {
   "cell_type": "code",
   "execution_count": 23,
   "metadata": {},
   "outputs": [],
   "source": [
    "w3 = Web3(Web3.HTTPProvider(\"http://127.0.0.1:8545\"))\n",
    "\n",
    "w3.middleware_onion.inject(geth_poa_middleware, layer=0)\n"
   ]
  },
  {
   "cell_type": "code",
   "execution_count": 24,
   "metadata": {},
   "outputs": [],
   "source": [
    "load_dotenv()\n",
    "mnemonic = os.getenv('MNEMONIC' , 'dawn early execute magic lounge share leopard window method venue scan grace trust cart theme')"
   ]
  },
  {
   "cell_type": "code",
   "execution_count": 54,
   "metadata": {},
   "outputs": [],
   "source": [
    "def derive_wallets(mnemonic, coin, numderive):\n",
    "    command = f'php ./derive -g --mnemonic=\"{mnemonic}\" --numderive={numderive} --coin={coin} --format=json'\n",
    "    p = subprocess.Popen(command, stdout=subprocess.PIPE, shell=True)\n",
    "    output, err = p.communicate()\n",
    "    p_status = p.wait()\n",
    "    #keys = json.loads(output)\n",
    "    print(output)"
   ]
  },
  {
   "cell_type": "code",
   "execution_count": 26,
   "metadata": {},
   "outputs": [
    {
     "name": "stdout",
     "output_type": "stream",
     "text": [
      "dawn early execute magic lounge share leopard window method venue scan grace trust cart theme\n"
     ]
    }
   ],
   "source": [
    "print(mnemonic)"
   ]
  },
  {
   "cell_type": "code",
   "execution_count": 50,
   "metadata": {},
   "outputs": [],
   "source": [
    "coins = [\"btc-test\", 'eth', 'btc']"
   ]
  },
  {
   "cell_type": "code",
   "execution_count": 53,
   "metadata": {},
   "outputs": [
    {
     "name": "stdout",
     "output_type": "stream",
     "text": [
      "b\"\\nUncaught Exception. code: 0, message: Call to undefined function Mdanter\\\\Ecc\\\\Curves\\\\gmp_init()\\n/Users/gmmundh/Desktop/Block Chain Tools/wallet/hd-wallet-derive/vendor/mdanter/ecc/src/Curves/SecgCurve.php : 122\\n\\nStack Trace:\\n#0 /Users/gmmundh/Desktop/Block Chain Tools/wallet/hd-wallet-derive/vendor/mdanter/ecc/src/Curves/SecgCurve.php(137): Mdanter\\\\Ecc\\\\Curves\\\\SecgCurve->curve256k1()\\n#1 /Users/gmmundh/Desktop/Block Chain Tools/wallet/hd-wallet-derive/vendor/bitwasp/bitcoin/src/Bitcoin.php(45): Mdanter\\\\Ecc\\\\Curves\\\\SecgCurve->generator256k1()\\n#2 /Users/gmmundh/Desktop/Block Chain Tools/wallet/hd-wallet-derive/vendor/bitwasp/bitcoin/src/Bitcoin.php(58): BitWasp\\\\Bitcoin\\\\Bitcoin::getGenerator()\\n#3 /Users/gmmundh/Desktop/Block Chain Tools/wallet/hd-wallet-derive/vendor/bitwasp/bitcoin/src/Key/Factory/HierarchicalKeyFactory.php(47): BitWasp\\\\Bitcoin\\\\Bitcoin::getEcAdapter()\\n#4 /Users/gmmundh/Desktop/Block Chain Tools/wallet/hd-wallet-derive/src/WalletDerive.php(58): BitWasp\\\\Bitcoin\\\\Key\\\\Factory\\\\HierarchicalKeyFactory->__construct()\\n#5 /Users/gmmundh/Desktop/Block Chain Tools/wallet/hd-wallet-derive/hd-wallet-derive.php(41): App\\\\WalletDerive->__construct(Array)\\n#6 /Users/gmmundh/Desktop/Block Chain Tools/wallet/hd-wallet-derive/hd-wallet-derive.php(83): main()\\n#7 {main}\\n\\nWARNING: strictmode\\\\ALERTS_MAILTO not defined in config.  To disable this warning, define 'strictmode\\\\ALERTS_DISABLE'.  alert not sent with subject: [Ghulams-MacBook-Air.local] [derive] Uncaught exception! [pid: 52105]\\n\\n\\nNow exiting.  Please report this problem to the software author\\n\\n\"\n"
     ]
    }
   ],
   "source": [
    "derive_wallets(mnemonic, 'BTC', 3)"
   ]
  },
  {
   "cell_type": "code",
   "execution_count": 39,
   "metadata": {},
   "outputs": [],
   "source": [
    "def priv_key_to_account(coin, priv_key):\n",
    "    if coin == ETH:\n",
    "        return Account.privateKeyToAccount(priv_key)\n",
    "    elif coin == BTCTEST:\n",
    "        return PrivateKeyTestnet(priv_key)"
   ]
  },
  {
   "cell_type": "code",
   "execution_count": 40,
   "metadata": {},
   "outputs": [],
   "source": [
    "priv_key_to_account(\"BTCTEST\", \"cPQvEkVZUVEXwmouobEDHFYD1C7Hpyc7Q39WMiReS7HYy2u9e6HV\")"
   ]
  },
  {
   "cell_type": "code",
   "execution_count": 41,
   "metadata": {},
   "outputs": [],
   "source": [
    "def create_tx(coin, account, to, amount):\n",
    "    if coin == ETH:\n",
    "        gasEstimate = w3.eth.estimateGas({\"from\":eth_acc.address, \"to\": to, \"value\": amount})\n",
    "        \n",
    "        return{\n",
    "            \"from\": eth_acc.address,\n",
    "            \"to\" : to,\n",
    "            \"value\": amount,\n",
    "            \"gasPrice\": w3.eth.gasPrice,\n",
    "            \"gas\": gasEstimate,\n",
    "            \"nonce\": w3.eth.getTransactionCount(eth_acc.address)\n",
    "        }\n",
    "    \n",
    "    elif coin == BTCTEST:\n",
    "        return PrivateKeyTestnet.prepare_transaction(account.address, [(recipient, amount, BTC)])"
   ]
  },
  {
   "cell_type": "code",
   "execution_count": 55,
   "metadata": {},
   "outputs": [],
   "source": [
    "create_tx(\"BTCTEST\", \"mxWw3xF5hHtbkKwv8DZoqmwb8ooKWLqtJz\", \"mmZmHosiund4SZvAFGcLMgrh9pamzCumeS\", 0.0001)"
   ]
  },
  {
   "cell_type": "code",
   "execution_count": 56,
   "metadata": {},
   "outputs": [],
   "source": [
    "def send_tx(coin, account, to, amount):\n",
    "    raw_tx = create_tx(coin, account, to, amount)\n",
    "    if coin == ETH:\n",
    "        tx_sign = eth.acc.sign_transaction(raw_tx)\n",
    "        result = w3.eth.sendRawTransaction(tx_sign.rawTransaction)\n",
    "        print(result.hex())\n",
    "        return result.hex()\n",
    "    elif coin == BTCTEST:\n",
    "        tx_sign = account.sign_transaction(raw_tx)\n",
    "        return NetworkAPI.broadcast_tx_testnet(tx_sign)"
   ]
  },
  {
   "cell_type": "code",
   "execution_count": null,
   "metadata": {},
   "outputs": [],
   "source": []
  }
 ],
 "metadata": {
  "kernelspec": {
   "display_name": "Python 3",
   "language": "python",
   "name": "python3"
  },
  "language_info": {
   "codemirror_mode": {
    "name": "ipython",
    "version": 3
   },
   "file_extension": ".py",
   "mimetype": "text/x-python",
   "name": "python",
   "nbconvert_exporter": "python",
   "pygments_lexer": "ipython3",
   "version": "3.8.2"
  }
 },
 "nbformat": 4,
 "nbformat_minor": 4
}
